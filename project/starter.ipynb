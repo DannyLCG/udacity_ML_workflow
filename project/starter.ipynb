{
 "cells": [
  {
   "cell_type": "markdown",
   "metadata": {},
   "source": [
    "# Deploy and monitor a machine learning workflow for Image Classification"
   ]
  },
  {
   "cell_type": "markdown",
   "metadata": {},
   "source": [
    "## Setting up this notebook\n",
    "\n",
    "Notes about the instance size and kernel setup: this notebook has been tested on\n",
    "\n",
    "1. The `Python 3 (Data Science)` kernel\n",
    "2. The `ml.t3.medium` Sagemaker notebook instance\n",
    "\n",
    "## Data Staging\n",
    "\n",
    "We'll use a sample dataset called CIFAR to simulate the challenges Scones Unlimited are facing in Image Classification. In order to start working with CIFAR we'll need to:\n",
    "\n",
    "1. Extract the data from a hosting service\n",
    "2. Transform it into a usable shape and format\n",
    "3. Load it into a production system\n",
    "\n",
    "In other words, we're going to do some simple ETL!\n",
    "\n",
    "### 1. Extract the data from the hosting service\n",
    "\n",
    "In the cell below, define a function `extract_cifar_data` that extracts python version of the CIFAR-100 dataset. The CIFAR dataaset is open source and generously hosted by the University of Toronto at: https://www.cs.toronto.edu/~kriz/cifar-100-python.tar.gz "
   ]
  },
  {
   "cell_type": "code",
   "execution_count": 1,
   "metadata": {},
   "outputs": [],
   "source": [
    "import requests\n",
    "\n",
    "def extract_cifar_data(url, filename=\"cifar.tar.gz\"):\n",
    "    \"\"\"A function for extracting the CIFAR-100 dataset and storing it as a gzipped file\n",
    "    Arguments:\n",
    "    url      -- the URL where the dataset is hosted\n",
    "    filename -- the full path where the dataset will be written\n",
    "    \n",
    "    \"\"\"\n",
    "    \n",
    "    r = requests.get(url)\n",
    "    with open(filename, \"wb\") as file_context:\n",
    "        file_context.write(r.content)\n",
    "    return "
   ]
  },
  {
   "cell_type": "markdown",
   "metadata": {},
   "source": [
    "Let's test it out! Run the following cell and check whether a new file `cifar.tar.gz` is created in the file explorer."
   ]
  },
  {
   "cell_type": "code",
   "execution_count": 2,
   "metadata": {},
   "outputs": [],
   "source": [
    "# Download the CIFAR data as a gunzip file\n",
    "extract_cifar_data(\"https://www.cs.toronto.edu/~kriz/cifar-100-python.tar.gz\")"
   ]
  },
  {
   "cell_type": "markdown",
   "metadata": {},
   "source": [
    "### 2. Transform the data into a usable shape and format\n",
    "\n",
    "Clearly, distributing the data as a gzipped archive makes sense for the hosting service! It saves on bandwidth, storage, and it's a widely-used archive format. In fact, it's so widely used that the Python community ships a utility for working with them, `tarfile`, as part of its Standard Library. Execute the following cell to decompress your extracted dataset:"
   ]
  },
  {
   "cell_type": "code",
   "execution_count": 3,
   "metadata": {},
   "outputs": [],
   "source": [
    "import tarfile\n",
    "\n",
    "# Extract the gunzip file\n",
    "with tarfile.open(\"cifar.tar.gz\", \"r:gz\") as tar:\n",
    "    tar.extractall()"
   ]
  },
  {
   "cell_type": "markdown",
   "metadata": {},
   "source": [
    "A new folder `cifar-100-python` should be created, containing `meta`, `test`, and `train` files. These files are `pickles` and the [CIFAR homepage](https://www.cs.toronto.edu/~kriz/cifar.html) provides a simple script that can be used to load them. We've adapted the script below for you to run:"
   ]
  },
  {
   "cell_type": "code",
   "execution_count": 1,
   "metadata": {},
   "outputs": [],
   "source": [
    "import pickle\n",
    "\n",
    "with open(\"./cifar-100-python/train\", \"rb\") as f:\n",
    "    dataset_train = pickle.load(f, encoding='bytes')\n",
    "\n",
    "with open(\"./cifar-100-python/test\", \"rb\") as f:\n",
    "    dataset_test = pickle.load(f, encoding='bytes')\n",
    "    \n",
    "with open(\"./cifar-100-python/meta\", \"rb\") as f:\n",
    "    dataset_meta = pickle.load(f, encoding='bytes')"
   ]
  },
  {
   "cell_type": "markdown",
   "metadata": {},
   "source": [
    "#### EDA (quickview)"
   ]
  },
  {
   "cell_type": "code",
   "execution_count": 2,
   "metadata": {},
   "outputs": [
    {
     "data": {
      "text/plain": [
       "dict_keys([b'filenames', b'batch_label', b'fine_labels', b'coarse_labels', b'data'])"
      ]
     },
     "execution_count": 2,
     "metadata": {},
     "output_type": "execute_result"
    }
   ],
   "source": [
    "# Feel free to explore the datasets\n",
    "\n",
    "dataset_train.keys()"
   ]
  },
  {
   "cell_type": "markdown",
   "metadata": {},
   "source": [
    "As documented on the homepage, `b'data'` contains rows of 3073 unsigned integers, representing three channels (red, green, and blue) for one 32x32 pixel image per row."
   ]
  },
  {
   "cell_type": "code",
   "execution_count": 3,
   "metadata": {},
   "outputs": [
    {
     "data": {
      "text/plain": [
       "3072"
      ]
     },
     "execution_count": 3,
     "metadata": {},
     "output_type": "execute_result"
    }
   ],
   "source": [
    "32*32*3"
   ]
  },
  {
   "cell_type": "markdown",
   "metadata": {},
   "source": [
    "For a simple gut-check, let's transform one of our images. Each 1024 items in a row is a channel (red, green, then blue). Each 32 items in the channel are a row in the 32x32 image. Using python, we can stack these channels into a 32x32x3 array, and save it as a PNG file:"
   ]
  },
  {
   "cell_type": "code",
   "execution_count": 3,
   "metadata": {},
   "outputs": [],
   "source": [
    "import numpy as np\n",
    "\n",
    "# Each 1024 in a row is a channel (red, green, then blue)\n",
    "# Extract the 1st row or image\n",
    "row = dataset_train[b'data'][0] \n",
    "# Separate the pixel values for each channel\n",
    "red, green, blue = row[0:1024], row[1024:2048], row[2048:] \n",
    "\n",
    "# Each 32 items in the channel are a row in the 32x32 image\n",
    "red = red.reshape(32, 32)\n",
    "green = green.reshape(32, 32)\n",
    "blue = blue.reshape(32, 32)\n",
    "\n",
    "# Combine the channels into a 32x32x3 image!\n",
    "combined = np.dstack((red, green, blue))"
   ]
  },
  {
   "cell_type": "markdown",
   "metadata": {},
   "source": [
    "For a more concise version, consider the following:"
   ]
  },
  {
   "cell_type": "code",
   "execution_count": 4,
   "metadata": {},
   "outputs": [],
   "source": [
    "# All in one:\n",
    "test_image = np.dstack((\n",
    "    row[0:1024].reshape(32, 32),\n",
    "    row[1024:2048].reshape(32, 32),\n",
    "    row[2048:].reshape(32, 32)\n",
    "))"
   ]
  },
  {
   "cell_type": "code",
   "execution_count": 5,
   "metadata": {},
   "outputs": [
    {
     "data": {
      "text/plain": [
       "<matplotlib.image.AxesImage at 0x7f4803eb8e20>"
      ]
     },
     "execution_count": 5,
     "metadata": {},
     "output_type": "execute_result"
    },
    {
     "data": {
      "image/png": "[encoded data removed]",
      "text/plain": [
       "<Figure size 640x480 with 1 Axes>"
      ]
     },
     "metadata": {},
     "output_type": "display_data"
    }
   ],
   "source": [
    "import matplotlib.pyplot as plt\n",
    "\n",
    "plt.imshow(test_image)"
   ]
  },
  {
   "cell_type": "markdown",
   "metadata": {},
   "source": [
    "Looks like a cow! Let's check the label. `dataset_meta` contains label names in order, and `dataset_train` has a list of labels for each row."
   ]
  },
  {
   "cell_type": "code",
   "execution_count": 6,
   "metadata": {},
   "outputs": [
    {
     "data": {
      "text/plain": [
       "19"
      ]
     },
     "execution_count": 6,
     "metadata": {},
     "output_type": "execute_result"
    }
   ],
   "source": [
    "dataset_train[b'fine_labels'][0]"
   ]
  },
  {
   "cell_type": "markdown",
   "metadata": {},
   "source": [
    "Our image has a label of `19`, so let's see what the 19th item is in the list of label names."
   ]
  },
  {
   "cell_type": "code",
   "execution_count": 7,
   "metadata": {},
   "outputs": [
    {
     "name": "stdout",
     "output_type": "stream",
     "text": [
      "b'cattle'\n"
     ]
    }
   ],
   "source": [
    "print(dataset_meta[b'fine_label_names'][19])"
   ]
  },
  {
   "cell_type": "markdown",
   "metadata": {},
   "source": [
    "Ok! 'cattle' sounds about right. By the way, using the previous two lines we can do:"
   ]
  },
  {
   "cell_type": "code",
   "execution_count": 8,
   "metadata": {},
   "outputs": [
    {
     "name": "stdout",
     "output_type": "stream",
     "text": [
      "b'cattle'\n"
     ]
    }
   ],
   "source": [
    "n = 0\n",
    "print(dataset_meta[b'fine_label_names'][dataset_train[b'fine_labels'][n]])"
   ]
  },
  {
   "cell_type": "markdown",
   "metadata": {},
   "source": [
    "Now we know how to check labels, is there a way that we can also check file names? `dataset_train` also contains a `b'filenames'` key. Let's see what we have here:"
   ]
  },
  {
   "cell_type": "code",
   "execution_count": 9,
   "metadata": {},
   "outputs": [
    {
     "name": "stdout",
     "output_type": "stream",
     "text": [
      "b'bos_taurus_s_000507.png'\n"
     ]
    }
   ],
   "source": [
    "print(dataset_train[b'filenames'][0])"
   ]
  },
  {
   "cell_type": "markdown",
   "metadata": {},
   "source": [
    "\"Taurus\" is the name of a subspecies of cattle, so this looks like a pretty reasonable filename. To save an image we can also do:"
   ]
  },
  {
   "cell_type": "code",
   "execution_count": 10,
   "metadata": {},
   "outputs": [],
   "source": [
    "plt.imsave(\"file.png\", test_image)"
   ]
  },
  {
   "cell_type": "markdown",
   "metadata": {},
   "source": [
    "Your new PNG file should now appear in the file explorer -- go ahead and pop it open to see!\n",
    "\n",
    "Now that you know how to reshape the images, save them as files, and capture their filenames and labels, let's just capture all the bicycles and motorcycles and save them. Scones Unlimited can use a model that tells these apart to route delivery drivers automatically.\n",
    "\n",
    "In the following cell, identify the label numbers for Bicycles and Motorcycles:"
   ]
  },
  {
   "cell_type": "code",
   "execution_count": 11,
   "metadata": {},
   "outputs": [
    {
     "data": {
      "text/plain": [
       "[8, 48]"
      ]
     },
     "execution_count": 11,
     "metadata": {},
     "output_type": "execute_result"
    }
   ],
   "source": [
    "# Filter the dataset_train and dataset_meta objects to find the label numbers for Bicycle and Motorcycles\n",
    "wanted_labels = [b'bicycle', b'motorcycle']\n",
    "# The 'fine_label_names' element is in itself a list, so we can use list comprehension\n",
    "indices = [i for i, x in enumerate(dataset_meta[b'fine_label_names']) if x in wanted_labels]\n",
    "indices"
   ]
  },
  {
   "cell_type": "markdown",
   "metadata": {},
   "source": [
    "Good job! We only need objects with label 8 and 48 -- this drastically simplifies our handling of the data! Below we construct a dataframe for you, and you can safely drop the rows that don't contain observations about bicycles and motorcycles. Fill in the missing lines below to drop all other rows:"
   ]
  },
  {
   "cell_type": "code",
   "execution_count": 12,
   "metadata": {},
   "outputs": [
    {
     "data": {
      "text/plain": [
       "bytes"
      ]
     },
     "execution_count": 12,
     "metadata": {},
     "output_type": "execute_result"
    }
   ],
   "source": [
    "type(dataset_train[b'filenames'][0])"
   ]
  },
  {
   "cell_type": "markdown",
   "metadata": {},
   "source": [
    "Note: This is only the metadata. Images are saved below."
   ]
  },
  {
   "cell_type": "code",
   "execution_count": 13,
   "metadata": {},
   "outputs": [],
   "source": [
    "import pandas as pd\n",
    "\n",
    "#Construct the dataframe\n",
    "df_train = pd.DataFrame({\n",
    "    \"filenames\": dataset_train[b'filenames'],\n",
    "    \"labels\": dataset_train[b'fine_labels'],\n",
    "    \"row\": range(len(dataset_train[b'filenames'])) #The index of each image\n",
    "})\n",
    "\n",
    "# Drop all rows from df_train where label is not 8 or 48\n",
    "df_train = df_train.loc[(df_train['labels'] == 8) | (df_train['labels'] == 48)]\n",
    "\n",
    "# Decode df_train.filenames so they are regular strings\n",
    "df_train[\"filenames\"] = df_train[\"filenames\"].apply(lambda x: x.decode(\"utf-8\"))\n",
    "\n",
    "\n",
    "df_test = pd.DataFrame({\n",
    "    \"filenames\": dataset_test[b'filenames'],\n",
    "    \"labels\": dataset_test[b'fine_labels'],\n",
    "    \"row\": range(len(dataset_test[b'filenames']))\n",
    "})\n",
    "\n",
    "# Drop all rows from df_test where label is not 8 or 48\n",
    "df_test = df_test.loc[(df_test['labels'] == 8) | (df_test['labels'] == 48)]\n",
    "\n",
    "# Decode df_test.filenames so they are regular strings\n",
    "df_test[\"filenames\"] = df_test[\"filenames\"].apply(lambda x: x.decode(\"utf-8\"))"
   ]
  },
  {
   "cell_type": "code",
   "execution_count": 14,
   "metadata": {},
   "outputs": [
    {
     "data": {
      "text/html": [
       "<div>\n",
       "<style scoped>\n",
       "    .dataframe tbody tr th:only-of-type {\n",
       "        vertical-align: middle;\n",
       "    }\n",
       "\n",
       "    .dataframe tbody tr th {\n",
       "        vertical-align: top;\n",
       "    }\n",
       "\n",
       "    .dataframe thead th {\n",
       "        text-align: right;\n",
       "    }\n",
       "</style>\n",
       "<table border=\"1\" class=\"dataframe\">\n",
       "  <thead>\n",
       "    <tr style=\"text-align: right;\">\n",
       "      <th></th>\n",
       "      <th>labels</th>\n",
       "      <th>row</th>\n",
       "    </tr>\n",
       "  </thead>\n",
       "  <tbody>\n",
       "    <tr>\n",
       "      <th>count</th>\n",
       "      <td>200.000000</td>\n",
       "      <td>200.000000</td>\n",
       "    </tr>\n",
       "    <tr>\n",
       "      <th>mean</th>\n",
       "      <td>28.000000</td>\n",
       "      <td>5138.835000</td>\n",
       "    </tr>\n",
       "    <tr>\n",
       "      <th>std</th>\n",
       "      <td>20.050188</td>\n",
       "      <td>2790.650148</td>\n",
       "    </tr>\n",
       "    <tr>\n",
       "      <th>min</th>\n",
       "      <td>8.000000</td>\n",
       "      <td>27.000000</td>\n",
       "    </tr>\n",
       "    <tr>\n",
       "      <th>25%</th>\n",
       "      <td>8.000000</td>\n",
       "      <td>3041.750000</td>\n",
       "    </tr>\n",
       "    <tr>\n",
       "      <th>50%</th>\n",
       "      <td>28.000000</td>\n",
       "      <td>5307.500000</td>\n",
       "    </tr>\n",
       "    <tr>\n",
       "      <th>75%</th>\n",
       "      <td>48.000000</td>\n",
       "      <td>7379.750000</td>\n",
       "    </tr>\n",
       "    <tr>\n",
       "      <th>max</th>\n",
       "      <td>48.000000</td>\n",
       "      <td>9939.000000</td>\n",
       "    </tr>\n",
       "  </tbody>\n",
       "</table>\n",
       "</div>"
      ],
      "text/plain": [
       "           labels          row\n",
       "count  200.000000   200.000000\n",
       "mean    28.000000  5138.835000\n",
       "std     20.050188  2790.650148\n",
       "min      8.000000    27.000000\n",
       "25%      8.000000  3041.750000\n",
       "50%     28.000000  5307.500000\n",
       "75%     48.000000  7379.750000\n",
       "max     48.000000  9939.000000"
      ]
     },
     "execution_count": 14,
     "metadata": {},
     "output_type": "execute_result"
    }
   ],
   "source": [
    "df_test.describe()"
   ]
  },
  {
   "cell_type": "markdown",
   "metadata": {},
   "source": [
    "Now that the data is filtered for just our classes, we can save all our images."
   ]
  },
  {
   "cell_type": "code",
   "execution_count": 15,
   "metadata": {},
   "outputs": [],
   "source": [
    "!rm -r ./train\n",
    "!rm -r ./test"
   ]
  },
  {
   "cell_type": "markdown",
   "metadata": {},
   "source": [
    "In the previous sections we introduced you to several key snippets of code:\n",
    "\n",
    "1. Grabbing the image data:\n",
    "\n",
    "```python\n",
    "dataset_train[b'data'][0]\n",
    "```\n",
    "\n",
    "2. A simple idiom for stacking the image data into the right shape\n",
    "\n",
    "```python\n",
    "import numpy as np\n",
    "np.dstack((\n",
    "    row[0:1024].reshape(32,32),\n",
    "    row[1024:2048].reshape(32,32),\n",
    "    row[2048:].reshape(32,32)\n",
    "))\n",
    "```\n",
    "\n",
    "3. A simple `matplotlib` utility for saving images\n",
    "\n",
    "```python\n",
    "plt.imsave(path+row['filenames'], target)\n",
    "```\n",
    "\n",
    "Compose these together into a function that saves all the images into the `./test` and `./train` directories. Use the comments in the body of the `save_images` function below to guide your construction of the function:\n"
   ]
  },
  {
   "cell_type": "code",
   "execution_count": 16,
   "metadata": {},
   "outputs": [
    {
     "data": {
      "text/plain": [
       "dict"
      ]
     },
     "execution_count": 16,
     "metadata": {},
     "output_type": "execute_result"
    }
   ],
   "source": [
    "type(dataset_test)"
   ]
  },
  {
   "cell_type": "code",
   "execution_count": 17,
   "metadata": {},
   "outputs": [],
   "source": [
    "import matplotlib.pyplot as plt\n",
    "import os\n",
    "\n",
    "def save_images(dataset: dict, dir: str):\n",
    "    '''\n",
    "    This function extracts RGB pixel values from each row in a list and saves images to disk.\n",
    "    inputs:\n",
    "    dataset: A dictionary obtained from a serialized dataset.\n",
    "    dir:     The path to save the extracted images.\n",
    "    '''\n",
    "    data_list = dataset[b'data']\n",
    "    filenames_list = dataset[b'filenames']\n",
    "\n",
    "    # Ensure the directory exists\n",
    "    if not os.path.exists(dir):\n",
    "        os.makedirs(dir)\n",
    "\n",
    "    success_count = 0\n",
    "\n",
    "    for row, filename in zip(data_list, filenames_list):\n",
    "        try:\n",
    "            # Grab the image data in row-major form\n",
    "            red, green, blue = row[:1024], row[1024:2048], row[2048:]\n",
    "            # Reshape the channel arrays\n",
    "            red = red.reshape(32, 32)\n",
    "            green = green.reshape(32, 32)\n",
    "            blue = blue.reshape(32, 32)\n",
    "\n",
    "            # Consolidated stacking/reshaping\n",
    "            img = np.dstack((red, green, blue))\n",
    "            # Save the image\n",
    "            file_path = os.path.join(dir, filename.decode('utf-8'))\n",
    "            plt.imsave(file_path, img)\n",
    "            success_count += 1\n",
    "        except Exception as e:\n",
    "            print(f\"Error saving {filename.decode('utf-8')}: {e}\")\n",
    "\n",
    "    print(f\"{success_count} images saved successfully.\\n\")\n",
    "    return success_count"
   ]
  },
  {
   "cell_type": "code",
   "execution_count": 22,
   "metadata": {},
   "outputs": [
    {
     "data": {
      "text/plain": [
       "\" # PARTITION THE DATASETS IN ORDER TO RUN LOCALLY\\nfrom sklearn.model_selection import train_test_split\\n\\ndef partition_dataset(dataset, test_size=0.1):\\n    data = dataset[b'data']\\n    filenames = dataset[b'filenames']\\n    labels = dataset[b'fine_labels'] if b'fine_labels' in dataset else dataset[b'labels']\\n\\n    # Split the data and get only the smaller (test) split\\n    _, data_part, _, filenames_part, _, labels_part = train_test_split(\\n        data, filenames, labels, test_size=test_size, random_state=42\\n    )\\n\\n    # Create a new dictionary with the partitioned data\\n    partitioned_dataset = {\\n        b'data': data_part,\\n        b'filenames': filenames_part,\\n        b'fine_labels': labels_part if b'fine_labels' in dataset else None\\n    }\\n\\n    return partitioned_dataset\\n\\ndataset_train_sample = partition_dataset(dataset_train, 0.01)\\ndataset_test_sample = partition_dataset(dataset_test, 0.01) \""
      ]
     },
     "execution_count": 22,
     "metadata": {},
     "output_type": "execute_result"
    }
   ],
   "source": [
    "\"\"\" # PARTITION THE DATASETS IN ORDER TO RUN LOCALLY\n",
    "from sklearn.model_selection import train_test_split\n",
    "\n",
    "def partition_dataset(dataset, test_size=0.1):\n",
    "    data = dataset[b'data']\n",
    "    filenames = dataset[b'filenames']\n",
    "    labels = dataset[b'fine_labels'] if b'fine_labels' in dataset else dataset[b'labels']\n",
    "\n",
    "    # Split the data and get only the smaller (test) split\n",
    "    _, data_part, _, filenames_part, _, labels_part = train_test_split(\n",
    "        data, filenames, labels, test_size=test_size, random_state=42\n",
    "    )\n",
    "\n",
    "    # Create a new dictionary with the partitioned data\n",
    "    partitioned_dataset = {\n",
    "        b'data': data_part,\n",
    "        b'filenames': filenames_part,\n",
    "        b'fine_labels': labels_part if b'fine_labels' in dataset else None\n",
    "    }\n",
    "\n",
    "    return partitioned_dataset\n",
    "\n",
    "dataset_train_sample = partition_dataset(dataset_train, 0.01)\n",
    "dataset_test_sample = partition_dataset(dataset_test, 0.01) \"\"\""
   ]
  },
  {
   "cell_type": "code",
   "execution_count": 18,
   "metadata": {},
   "outputs": [],
   "source": [
    "# Define a function to filter data based on numbered labels\n",
    "def filter_dataset(dataset, filter_labels):\n",
    "    \"\"\"\n",
    "    Filters the dataset to include only the elements where 'fine_labels' match the filter_labels.\n",
    "\n",
    "    Parameters:\n",
    "    dataset (dict): The dataset to filter.\n",
    "    filter_labels (list): A list of labels to filter on.\n",
    "\n",
    "    Returns:\n",
    "    dict: A filtered dataset.\n",
    "    \"\"\"\n",
    "    filtered_data = {\n",
    "        b'data': [],\n",
    "        b'filenames': [],\n",
    "        b'fine_labels': []\n",
    "    }\n",
    "    \n",
    "    data = dataset[b'data']\n",
    "    filenames = dataset[b'filenames']\n",
    "    fine_labels = dataset[b'fine_labels']\n",
    "\n",
    "    for i in range(len(data)):\n",
    "        if fine_labels[i] in filter_labels:\n",
    "            filtered_data[b'data'].append(data[i])\n",
    "            filtered_data[b'filenames'].append(filenames[i])\n",
    "            filtered_data[b'fine_labels'].append(fine_labels[i])\n",
    "\n",
    "    # Convert lists back to numpy arrays\n",
    "    filtered_data[b'data'] = np.array(filtered_data[b'data'])\n",
    "    filtered_data[b'filenames'] = np.array(filtered_data[b'filenames'])\n",
    "    filtered_data[b'fine_labels'] = np.array(filtered_data[b'fine_labels'])\n",
    "\n",
    "    return filtered_data\n"
   ]
  },
  {
   "cell_type": "code",
   "execution_count": 19,
   "metadata": {},
   "outputs": [],
   "source": [
    "# Filter data for images of interest (bicycles and motorcycles)\n",
    "filter_labels = [8, 48]\n",
    "dataset_train_filter = filter_dataset(dataset_train, filter_labels)\n",
    "dataset_test_filter = filter_dataset(dataset_test, filter_labels)"
   ]
  },
  {
   "cell_type": "code",
   "execution_count": 20,
   "metadata": {},
   "outputs": [
    {
     "name": "stdout",
     "output_type": "stream",
     "text": [
      "1000\n",
      "200\n"
     ]
    }
   ],
   "source": [
    "print(len(dataset_train_filter[b'filenames']))\n",
    "print(len(dataset_test_filter[b'filenames']))"
   ]
  },
  {
   "cell_type": "code",
   "execution_count": 21,
   "metadata": {},
   "outputs": [
    {
     "name": "stdout",
     "output_type": "stream",
     "text": [
      "1000 images saved successfully.\n",
      "\n"
     ]
    },
    {
     "data": {
      "text/plain": [
       "1000"
      ]
     },
     "execution_count": 21,
     "metadata": {},
     "output_type": "execute_result"
    }
   ],
   "source": [
    "# Save all images\n",
    "#save_images(dataset_train_sample, './train')\n",
    "save_images(dataset_train_filter, './train')"
   ]
  },
  {
   "cell_type": "code",
   "execution_count": 22,
   "metadata": {},
   "outputs": [
    {
     "name": "stdout",
     "output_type": "stream",
     "text": [
      "200 images saved successfully.\n",
      "\n"
     ]
    },
    {
     "data": {
      "text/plain": [
       "200"
      ]
     },
     "execution_count": 22,
     "metadata": {},
     "output_type": "execute_result"
    }
   ],
   "source": [
    "#save_images(dataset_test_sample, './test')\n",
    "save_images(dataset_test_filter, './test')"
   ]
  },
  {
   "cell_type": "markdown",
   "metadata": {},
   "source": [
    "### 3. Load the data\n",
    "\n",
    "Now we can load the data into S3.\n",
    "\n",
    "Using the sagemaker SDK grab the current region, execution role, and bucket."
   ]
  },
  {
   "cell_type": "code",
   "execution_count": 1,
   "metadata": {},
   "outputs": [
    {
     "name": "stdout",
     "output_type": "stream",
     "text": [
      "sagemaker.config INFO - Not applying SDK defaults from location: /etc/xdg/sagemaker/config.yaml\n",
      "sagemaker.config INFO - Not applying SDK defaults from location: /home/sagemaker-user/.config/sagemaker/config.yaml\n",
      "Bucket: odlo-scones-bucket\n",
      "AWS Region: us-east-1\n",
      "RoleArn: arn:aws:iam::533701990481:role/service-role/AmazonSageMaker-ExecutionRole-20240612T093939\n"
     ]
    }
   ],
   "source": [
    "import sagemaker\n",
    "from sagemaker import Session\n",
    "from sagemaker import get_execution_role\n",
    "import boto3\n",
    "\n",
    "session = sagemaker.Session()\n",
    "role = get_execution_role()\n",
    "bucket = 'odlo-scones-bucket' #We created a new bucket for this project with the S3 UI\n",
    "data_prefix = 'data'\n",
    "region = session.boto_session.region_name\n",
    "\n",
    "print(\"Bucket: {}\".format(bucket))\n",
    "print(\"AWS Region: {}\".format(region))\n",
    "print(\"RoleArn: {}\".format(role))"
   ]
  },
  {
   "cell_type": "markdown",
   "metadata": {},
   "source": [
    "With this data we can easily sync your data up into S3!"
   ]
  },
  {
   "cell_type": "code",
   "execution_count": 2,
   "metadata": {
    "scrolled": true
   },
   "outputs": [],
   "source": [
    "import os\n",
    "\n",
    "os.environ[\"S3_BUCKET\"] = bucket\n",
    "!aws s3 sync ./train s3://${S3_BUCKET}/data/train/\n",
    "!aws s3 sync ./test s3://${S3_BUCKET}/data/test/"
   ]
  },
  {
   "cell_type": "markdown",
   "metadata": {},
   "source": [
    "And that's it! You can check the bucket and verify that the items were uploaded.\n",
    "\n",
    "## Model Training\n",
    "\n",
    "For Image Classification, Sagemaker [also expects metadata](https://docs.aws.amazon.com/sagemaker/latest/dg/image-classification.html) e.g. in the form of CSV files with labels and filepaths. We can generate these using our Pandas DataFrames from earlier:"
   ]
  },
  {
   "cell_type": "code",
   "execution_count": 49,
   "metadata": {},
   "outputs": [
    {
     "data": {
      "text/plain": [
       "'safety_bike_s_000390.png'"
      ]
     },
     "execution_count": 49,
     "metadata": {},
     "output_type": "execute_result"
    }
   ],
   "source": [
    "df_test['filenames'].iloc[0]"
   ]
  },
  {
   "cell_type": "code",
   "execution_count": 50,
   "metadata": {},
   "outputs": [],
   "source": [
    "def to_metadata_file(df, prefix):\n",
    "    df[\"s3_path\"] = df[\"filenames\"] #FILENAME = S3_PATH ?\n",
    "    df[\"labels\"] = df[\"labels\"].apply(lambda x: 0 if x==8 else 1)\n",
    "    return df[[\"row\", \"labels\", \"s3_path\"]].to_csv(\n",
    "        f\"{prefix}.lst\", sep=\"\\t\", index=False, header=False\n",
    "    )"
   ]
  },
  {
   "cell_type": "code",
   "execution_count": 51,
   "metadata": {},
   "outputs": [],
   "source": [
    "to_metadata_file(df_train.copy(), \"train\")\n",
    "to_metadata_file(df_test.copy(), \"test\")"
   ]
  },
  {
   "cell_type": "markdown",
   "metadata": {},
   "source": [
    "We can also upload our manifest files:"
   ]
  },
  {
   "cell_type": "code",
   "execution_count": 52,
   "metadata": {},
   "outputs": [],
   "source": [
    "import boto3\n",
    "\n",
    "# Upload metadata files\n",
    "# Note: Do not store metadata in dataset dirs (train or test)\n",
    "boto3.Session().resource('s3').Bucket(bucket).Object(\n",
    "    'data/train.lst').upload_file('./train.lst')\n",
    "\n",
    "boto3.Session().resource('s3').Bucket(bucket).Object(\n",
    "    'data/test.lst').upload_file('./test.lst')"
   ]
  },
  {
   "cell_type": "markdown",
   "metadata": {},
   "source": [
    "Using the `bucket` and `region` info we can get the latest prebuilt container to run our training job, and define an output location on our s3 bucket for the model. Use the `image_uris` function from the SageMaker SDK to retrieve the latest `image-classification` image below:"
   ]
  },
  {
   "cell_type": "code",
   "execution_count": 4,
   "metadata": {},
   "outputs": [
    {
     "name": "stderr",
     "output_type": "stream",
     "text": [
      "Defaulting to the only supported framework/algorithm version: 1. Ignoring framework/algorithm version: latest.\n"
     ]
    }
   ],
   "source": [
    "# Use the image_uris function to retrieve the latest 'image-classification' image \n",
    "algo_image = sagemaker.image_uris.retrieve(region=region,\n",
    "                                           framework='image-classification',\n",
    "                                           version='latest')\n",
    "\n",
    "s3_output_location = f\"s3://{bucket}/models/image_model\""
   ]
  },
  {
   "cell_type": "markdown",
   "metadata": {},
   "source": [
    "We're ready to create an estimator! Create an estimator `img_classifier_model` that uses one instance of `ml.p3.2xlarge`. Ensure that y ou use the output location we defined above - we'll be referring to that later!"
   ]
  },
  {
   "cell_type": "code",
   "execution_count": 5,
   "metadata": {},
   "outputs": [],
   "source": [
    "img_classifier_model = sagemaker.estimator.Estimator(\n",
    "    algo_image,\n",
    "    role=role,\n",
    "    instance_count=1,\n",
    "    instance_type='ml.p3.2xlarge',\n",
    "    volume_size=30,\n",
    "    max_run=360000,\n",
    "    input_mode='File', #CHECK?\n",
    "    output_path=s3_output_location,\n",
    "    sagemaker_session=session)"
   ]
  },
  {
   "cell_type": "markdown",
   "metadata": {},
   "source": [
    "We can also set a few key hyperparameters and define the inputs for our model:"
   ]
  },
  {
   "cell_type": "code",
   "execution_count": 6,
   "metadata": {},
   "outputs": [
    {
     "data": {
      "text/plain": [
       "'2.219.0'"
      ]
     },
     "execution_count": 6,
     "metadata": {},
     "output_type": "execute_result"
    }
   ],
   "source": [
    "sagemaker.__version__"
   ]
  },
  {
   "cell_type": "code",
   "execution_count": 7,
   "metadata": {},
   "outputs": [],
   "source": [
    "img_classifier_model.set_hyperparameters(\n",
    "    image_shape = '3,32,32', #valid values: string\n",
    "    num_classes = 2,\n",
    "    num_training_samples = 1000) #bicycle+motorcycle trainig datasets: 500+500"
   ]
  },
  {
   "cell_type": "markdown",
   "metadata": {},
   "source": [
    "The `image-classification` image uses four input channels with very specific input parameters. For convenience, we've provided them below:"
   ]
  },
  {
   "cell_type": "code",
   "execution_count": 8,
   "metadata": {},
   "outputs": [],
   "source": [
    "from sagemaker.debugger import Rule, rule_configs\n",
    "from sagemaker.session import TrainingInput\n",
    "\n",
    "s3_input_train = sagemaker.inputs.TrainingInput(\n",
    "            s3_data=f\"s3://{bucket}/data/train/\",\n",
    "            content_type=\"application/x-image\")\n",
    "\n",
    "s3_input_validation = sagemaker.inputs.TrainingInput(\n",
    "            s3_data=f\"s3://{bucket}/data/test/\",\n",
    "            content_type=\"application/x-image\")\n",
    "\n",
    "s3_input_train_meta = sagemaker.inputs.TrainingInput(\n",
    "            s3_data=f\"s3://{bucket}/data/train.lst\",\n",
    "            content_type=\"application/x-image\")\n",
    "\n",
    "s3_input_validation_meta = sagemaker.inputs.TrainingInput(\n",
    "            s3_data=f\"s3://{bucket}/data/test.lst\",\n",
    "            content_type=\"application/x-image\")\n",
    "\n",
    "model_inputs = {\n",
    "        \"train\": s3_input_train,\n",
    "        \"validation\": s3_input_validation,\n",
    "        \"train_lst\": s3_input_train_meta,\n",
    "        \"validation_lst\": s3_input_validation_meta}"
   ]
  },
  {
   "cell_type": "markdown",
   "metadata": {},
   "source": [
    "Great, now we can train the model using the model_inputs. In the cell below, call the `fit` method on our model,:"
   ]
  },
  {
   "cell_type": "code",
   "execution_count": 9,
   "metadata": {},
   "outputs": [
    {
     "name": "stderr",
     "output_type": "stream",
     "text": [
      "INFO:sagemaker:Creating training-job with name: image-classification-2024-08-07-15-35-31-346\n"
     ]
    },
    {
     "name": "stdout",
     "output_type": "stream",
     "text": [
      "2024-08-07 15:35:31 Starting - Starting the training job...\n",
      "2024-08-07 15:35:33 Pending - Training job waiting for capacity.................................\n",
      "2024-08-07 15:41:25 Pending - Preparing the instances for training...\n",
      "2024-08-07 15:42:03 Downloading - Downloading input data...\n",
      "2024-08-07 15:42:23 Downloading - Downloading the training image..............................\n",
      "2024-08-07 15:47:16 Training - Training image download completed. Training in progress..\u001b[34mDocker entrypoint called with argument(s): train\u001b[0m\n",
      "\u001b[34mRunning default environment configuration script\u001b[0m\n",
      "\u001b[34mNvidia gpu devices, drivers and cuda toolkit versions (only available on hosts with GPU):\u001b[0m\n",
      "\u001b[34mWed Aug  7 15:47:36 2024       \u001b[0m\n",
      "\u001b[34m+---------------------------------------------------------------------------------------+\u001b[0m\n",
      "\u001b[34m| NVIDIA-SMI 535.183.01             Driver Version: 535.183.01   CUDA Version: 12.2     |\u001b[0m\n",
      "\u001b[34m|-----------------------------------------+----------------------+----------------------+\u001b[0m\n",
      "\u001b[34m| GPU  Name                 Persistence-M | Bus-Id        Disp.A | Volatile Uncorr. ECC |\u001b[0m\n",
      "\u001b[34m| Fan  Temp   Perf          Pwr:Usage/Cap |         Memory-Usage | GPU-Util  Compute M. |\u001b[0m\n",
      "\u001b[34m|                                         |                      |               MIG M. |\u001b[0m\n",
      "\u001b[34m|=========================================+======================+======================|\u001b[0m\n",
      "\u001b[34m|   0  Tesla V100-SXM2-16GB           On  | 00000000:00:1E.0 Off |                    0 |\u001b[0m\n",
      "\u001b[34m| N/A   45C    P0              25W / 300W |      0MiB / 16384MiB |      0%      Default |\u001b[0m\n",
      "\u001b[34m|                                         |                      |                  N/A |\u001b[0m\n",
      "\u001b[34m+-----------------------------------------+----------------------+----------------------+\n",
      "                                                                                         \u001b[0m\n",
      "\u001b[34m+---------------------------------------------------------------------------------------+\u001b[0m\n",
      "\u001b[34m| Processes:                                                                            |\u001b[0m\n",
      "\u001b[34m|  GPU   GI   CI        PID   Type   Process name                            GPU Memory |\u001b[0m\n",
      "\u001b[34m|        ID   ID                                                             Usage      |\u001b[0m\n",
      "\u001b[34m|=======================================================================================|\u001b[0m\n",
      "\u001b[34m|  No running processes found                                                           |\u001b[0m\n",
      "\u001b[34m+---------------------------------------------------------------------------------------+\u001b[0m\n",
      "\u001b[34mChecking for nvidia driver and cuda compatibility.\u001b[0m\n",
      "\u001b[34mCUDA Compatibility driver provided.\u001b[0m\n",
      "\u001b[34mProceeding with compatibility check between driver, cuda-toolkit and cuda-compat.\u001b[0m\n",
      "\u001b[34mDetected cuda-toolkit version: 11.1.\u001b[0m\n",
      "\u001b[34mDetected cuda-compat version: 455.32.00.\u001b[0m\n",
      "\u001b[34mDetected Nvidia driver version: 535.183.01.\u001b[0m\n",
      "\u001b[34mNvidia driver compatible with cuda-toolkit. Disabling cuda-compat.\u001b[0m\n",
      "\u001b[34m/opt/amazon/lib/python3.8/site-packages/mxnet/model.py:97: SyntaxWarning: \"is\" with a literal. Did you mean \"==\"?\n",
      "  if num_device is 1 and 'dist' not in kvstore:\u001b[0m\n",
      "\u001b[34m[08/07/2024 15:47:40 INFO 140369121769280] Reading default configuration from /opt/amazon/lib/python3.8/site-packages/image_classification/default-input.json: {'use_pretrained_model': 0, 'num_layers': 152, 'epochs': 30, 'learning_rate': 0.1, 'lr_scheduler_factor': 0.1, 'optimizer': 'sgd', 'momentum': 0, 'weight_decay': 0.0001, 'beta_1': 0.9, 'beta_2': 0.999, 'eps': 1e-08, 'gamma': 0.9, 'mini_batch_size': 32, 'image_shape': '3,224,224', 'precision_dtype': 'float32'}\u001b[0m\n",
      "\u001b[34m[08/07/2024 15:47:40 INFO 140369121769280] Merging with provided configuration from /opt/ml/input/config/hyperparameters.json: {'image_shape': '3,32,32', 'num_classes': '2', 'num_training_samples': '1000'}\u001b[0m\n",
      "\u001b[34m[08/07/2024 15:47:40 INFO 140369121769280] Final configuration: {'use_pretrained_model': 0, 'num_layers': 152, 'epochs': 30, 'learning_rate': 0.1, 'lr_scheduler_factor': 0.1, 'optimizer': 'sgd', 'momentum': 0, 'weight_decay': 0.0001, 'beta_1': 0.9, 'beta_2': 0.999, 'eps': 1e-08, 'gamma': 0.9, 'mini_batch_size': 32, 'image_shape': '3,32,32', 'precision_dtype': 'float32', 'num_classes': '2', 'num_training_samples': '1000'}\u001b[0m\n",
      "\u001b[34m[08/07/2024 15:47:40 INFO 140369121769280] Searching for .lst files in /opt/ml/input/data/train_lst.\u001b[0m\n",
      "\u001b[34m[08/07/2024 15:47:40 INFO 140369121769280] Creating record files for train.lst\u001b[0m\n",
      "\u001b[34m[08/07/2024 15:47:40 INFO 140369121769280] Done creating record files...\u001b[0m\n",
      "\u001b[34m[08/07/2024 15:47:40 INFO 140369121769280] Searching for .lst files in /opt/ml/input/data/validation_lst.\u001b[0m\n",
      "\u001b[34m[08/07/2024 15:47:40 INFO 140369121769280] Creating record files for test.lst\u001b[0m\n",
      "\u001b[34m[08/07/2024 15:47:40 INFO 140369121769280] Done creating record files...\u001b[0m\n",
      "\u001b[34m[08/07/2024 15:47:40 INFO 140369121769280] use_pretrained_model: 0\u001b[0m\n",
      "\u001b[34m[08/07/2024 15:47:40 INFO 140369121769280] multi_label: 0\u001b[0m\n",
      "\u001b[34m[08/07/2024 15:47:40 INFO 140369121769280] Performing random weight initialization\u001b[0m\n",
      "\u001b[34m[08/07/2024 15:47:40 INFO 140369121769280] ---- Parameters ----\u001b[0m\n",
      "\u001b[34m[08/07/2024 15:47:40 INFO 140369121769280] num_layers: 152\u001b[0m\n",
      "\u001b[34m[08/07/2024 15:47:40 INFO 140369121769280] data type: <class 'numpy.float32'>\u001b[0m\n",
      "\u001b[34m[08/07/2024 15:47:40 INFO 140369121769280] epochs: 30\u001b[0m\n",
      "\u001b[34m[08/07/2024 15:47:40 INFO 140369121769280] optimizer: sgd\u001b[0m\n",
      "\u001b[34m[08/07/2024 15:47:40 INFO 140369121769280] momentum: 0.9\u001b[0m\n",
      "\u001b[34m[08/07/2024 15:47:40 INFO 140369121769280] weight_decay: 0.0001\u001b[0m\n",
      "\u001b[34m[08/07/2024 15:47:40 INFO 140369121769280] learning_rate: 0.1\u001b[0m\n",
      "\u001b[34m[08/07/2024 15:47:40 INFO 140369121769280] num_training_samples: 1000\u001b[0m\n",
      "\u001b[34m[08/07/2024 15:47:40 INFO 140369121769280] mini_batch_size: 32\u001b[0m\n",
      "\u001b[34m[08/07/2024 15:47:40 INFO 140369121769280] image_shape: 3,32,32\u001b[0m\n",
      "\u001b[34m[08/07/2024 15:47:40 INFO 140369121769280] num_classes: 2\u001b[0m\n",
      "\u001b[34m[08/07/2024 15:47:40 INFO 140369121769280] augmentation_type: None\u001b[0m\n",
      "\u001b[34m[08/07/2024 15:47:40 INFO 140369121769280] kv_store: device\u001b[0m\n",
      "\u001b[34m[08/07/2024 15:47:40 INFO 140369121769280] checkpoint_frequency not set, will store the best model\u001b[0m\n",
      "\u001b[34m[08/07/2024 15:47:40 INFO 140369121769280] --------------------\u001b[0m\n",
      "\u001b[34m/opt/amazon/python3.8/lib/python3.8/subprocess.py:848: RuntimeWarning: line buffering (buffering=1) isn't supported in binary mode, the default buffer size will be used\n",
      "  self.stdout = io.open(c2pread, 'rb', bufsize)\u001b[0m\n",
      "\u001b[34m[08/07/2024 15:47:40 INFO 140369121769280] Setting number of threads: 7\u001b[0m\n",
      "\u001b[34m[15:47:45] /opt/brazil-pkg-cache/packages/AIAlgorithmsMXNet/AIAlgorithmsMXNet-1.4.x_ecl_Cuda_11.1.x.379.0/AL2_x86_64/generic-flavor/src/src/operator/nn/./cudnn/./cudnn_algoreg-inl.h:97: Running performance tests to find the best convolution algorithm, this can take a while... (setting env variable MXNET_CUDNN_AUTOTUNE_DEFAULT to 0 to disable)\u001b[0m\n",
      "\u001b[34m[08/07/2024 15:47:50 INFO 140369121769280] Epoch[0] Batch [20]#011Speed: 123.952 samples/sec#011accuracy=0.575893\u001b[0m\n",
      "\u001b[34m[08/07/2024 15:47:52 INFO 140369121769280] Epoch[0] Train-accuracy=0.618952\u001b[0m\n",
      "\u001b[34m[08/07/2024 15:47:52 INFO 140369121769280] Epoch[0] Time cost=6.812\u001b[0m\n",
      "\u001b[34m[08/07/2024 15:47:52 INFO 140369121769280] Epoch[0] Validation-accuracy=0.505208\u001b[0m\n",
      "\u001b[34m[08/07/2024 15:47:52 INFO 140369121769280] Storing the best model with validation accuracy: 0.505208\u001b[0m\n",
      "\u001b[34m[08/07/2024 15:47:53 INFO 140369121769280] Saved checkpoint to \"/opt/ml/model/image-classification-0001.params\"\u001b[0m\n",
      "\u001b[34m[08/07/2024 15:47:56 INFO 140369121769280] Epoch[1] Batch [20]#011Speed: 184.583 samples/sec#011accuracy=0.703869\u001b[0m\n",
      "\u001b[34m[08/07/2024 15:47:58 INFO 140369121769280] Epoch[1] Train-accuracy=0.716734\u001b[0m\n",
      "\u001b[34m[08/07/2024 15:47:58 INFO 140369121769280] Epoch[1] Time cost=5.131\u001b[0m\n",
      "\u001b[34m[08/07/2024 15:47:58 INFO 140369121769280] Epoch[1] Validation-accuracy=0.625000\u001b[0m\n",
      "\u001b[34m[08/07/2024 15:47:59 INFO 140369121769280] Storing the best model with validation accuracy: 0.625000\u001b[0m\n",
      "\u001b[34m[08/07/2024 15:47:59 INFO 140369121769280] Saved checkpoint to \"/opt/ml/model/image-classification-0002.params\"\u001b[0m\n",
      "\u001b[34m[08/07/2024 15:48:03 INFO 140369121769280] Epoch[2] Batch [20]#011Speed: 188.086 samples/sec#011accuracy=0.730655\u001b[0m\n",
      "\u001b[34m[08/07/2024 15:48:04 INFO 140369121769280] Epoch[2] Train-accuracy=0.701613\u001b[0m\n",
      "\u001b[34m[08/07/2024 15:48:04 INFO 140369121769280] Epoch[2] Time cost=5.089\u001b[0m\n",
      "\u001b[34m[08/07/2024 15:48:05 INFO 140369121769280] Epoch[2] Validation-accuracy=0.729167\u001b[0m\n",
      "\u001b[34m[08/07/2024 15:48:05 INFO 140369121769280] Storing the best model with validation accuracy: 0.729167\u001b[0m\n",
      "\u001b[34m[08/07/2024 15:48:05 INFO 140369121769280] Saved checkpoint to \"/opt/ml/model/image-classification-0003.params\"\u001b[0m\n",
      "\u001b[34m[08/07/2024 15:48:09 INFO 140369121769280] Epoch[3] Batch [20]#011Speed: 189.825 samples/sec#011accuracy=0.665179\u001b[0m\n",
      "\u001b[34m[08/07/2024 15:48:10 INFO 140369121769280] Epoch[3] Train-accuracy=0.717742\u001b[0m\n",
      "\u001b[34m[08/07/2024 15:48:10 INFO 140369121769280] Epoch[3] Time cost=5.015\u001b[0m\n",
      "\u001b[34m[08/07/2024 15:48:11 INFO 140369121769280] Epoch[3] Validation-accuracy=0.776786\u001b[0m\n",
      "\u001b[34m[08/07/2024 15:48:11 INFO 140369121769280] Storing the best model with validation accuracy: 0.776786\u001b[0m\n",
      "\u001b[34m[08/07/2024 15:48:12 INFO 140369121769280] Saved checkpoint to \"/opt/ml/model/image-classification-0004.params\"\u001b[0m\n",
      "\u001b[34m[08/07/2024 15:48:15 INFO 140369121769280] Epoch[4] Batch [20]#011Speed: 190.219 samples/sec#011accuracy=0.794643\u001b[0m\n",
      "\u001b[34m[08/07/2024 15:48:17 INFO 140369121769280] Epoch[4] Train-accuracy=0.784274\u001b[0m\n",
      "\u001b[34m[08/07/2024 15:48:17 INFO 140369121769280] Epoch[4] Time cost=5.014\u001b[0m\n",
      "\u001b[34m[08/07/2024 15:48:17 INFO 140369121769280] Epoch[4] Validation-accuracy=0.796875\u001b[0m\n",
      "\u001b[34m[08/07/2024 15:48:17 INFO 140369121769280] Storing the best model with validation accuracy: 0.796875\u001b[0m\n",
      "\u001b[34m[08/07/2024 15:48:18 INFO 140369121769280] Saved checkpoint to \"/opt/ml/model/image-classification-0005.params\"\u001b[0m\n",
      "\u001b[34m[08/07/2024 15:48:21 INFO 140369121769280] Epoch[5] Batch [20]#011Speed: 192.073 samples/sec#011accuracy=0.827381\u001b[0m\n",
      "\u001b[34m[08/07/2024 15:48:23 INFO 140369121769280] Epoch[5] Train-accuracy=0.804435\u001b[0m\n",
      "\u001b[34m[08/07/2024 15:48:23 INFO 140369121769280] Epoch[5] Time cost=4.998\u001b[0m\n",
      "\u001b[34m[08/07/2024 15:48:23 INFO 140369121769280] Epoch[5] Validation-accuracy=0.682292\u001b[0m\n",
      "\u001b[34m[08/07/2024 15:48:27 INFO 140369121769280] Epoch[6] Batch [20]#011Speed: 190.635 samples/sec#011accuracy=0.827381\u001b[0m\n",
      "\u001b[34m[08/07/2024 15:48:29 INFO 140369121769280] Epoch[6] Train-accuracy=0.819556\u001b[0m\n",
      "\u001b[34m[08/07/2024 15:48:29 INFO 140369121769280] Epoch[6] Time cost=5.016\u001b[0m\n",
      "\u001b[34m[08/07/2024 15:48:29 INFO 140369121769280] Epoch[6] Validation-accuracy=0.817708\u001b[0m\n",
      "\u001b[34m[08/07/2024 15:48:30 INFO 140369121769280] Storing the best model with validation accuracy: 0.817708\u001b[0m\n",
      "\u001b[34m[08/07/2024 15:48:30 INFO 140369121769280] Saved checkpoint to \"/opt/ml/model/image-classification-0007.params\"\u001b[0m\n",
      "\u001b[34m[08/07/2024 15:48:33 INFO 140369121769280] Epoch[7] Batch [20]#011Speed: 189.647 samples/sec#011accuracy=0.816964\u001b[0m\n",
      "\u001b[34m[08/07/2024 15:48:35 INFO 140369121769280] Epoch[7] Train-accuracy=0.813508\u001b[0m\n",
      "\u001b[34m[08/07/2024 15:48:35 INFO 140369121769280] Epoch[7] Time cost=5.029\u001b[0m\n",
      "\u001b[34m[08/07/2024 15:48:36 INFO 140369121769280] Epoch[7] Validation-accuracy=0.758929\u001b[0m\n",
      "\u001b[34m[08/07/2024 15:48:39 INFO 140369121769280] Epoch[8] Batch [20]#011Speed: 186.905 samples/sec#011accuracy=0.839286\u001b[0m\n",
      "\u001b[34m[08/07/2024 15:48:41 INFO 140369121769280] Epoch[8] Train-accuracy=0.839718\u001b[0m\n",
      "\u001b[34m[08/07/2024 15:48:41 INFO 140369121769280] Epoch[8] Time cost=5.083\u001b[0m\n",
      "\u001b[34m[08/07/2024 15:48:42 INFO 140369121769280] Epoch[8] Validation-accuracy=0.817708\u001b[0m\n",
      "\u001b[34m[08/07/2024 15:48:45 INFO 140369121769280] Epoch[9] Batch [20]#011Speed: 191.935 samples/sec#011accuracy=0.858631\u001b[0m\n",
      "\u001b[34m[08/07/2024 15:48:47 INFO 140369121769280] Epoch[9] Train-accuracy=0.857863\u001b[0m\n",
      "\u001b[34m[08/07/2024 15:48:47 INFO 140369121769280] Epoch[9] Time cost=4.985\u001b[0m\n",
      "\u001b[34m[08/07/2024 15:48:47 INFO 140369121769280] Epoch[9] Validation-accuracy=0.843750\u001b[0m\n",
      "\u001b[34m[08/07/2024 15:48:48 INFO 140369121769280] Storing the best model with validation accuracy: 0.843750\u001b[0m\n",
      "\u001b[34m[08/07/2024 15:48:48 INFO 140369121769280] Saved checkpoint to \"/opt/ml/model/image-classification-0010.params\"\u001b[0m\n",
      "\u001b[34m[08/07/2024 15:48:51 INFO 140369121769280] Epoch[10] Batch [20]#011Speed: 192.022 samples/sec#011accuracy=0.880952\u001b[0m\n",
      "\u001b[34m[08/07/2024 15:48:53 INFO 140369121769280] Epoch[10] Train-accuracy=0.867944\u001b[0m\n",
      "\u001b[34m[08/07/2024 15:48:53 INFO 140369121769280] Epoch[10] Time cost=4.988\u001b[0m\n",
      "\u001b[34m[08/07/2024 15:48:54 INFO 140369121769280] Epoch[10] Validation-accuracy=0.765625\u001b[0m\n",
      "\u001b[34m[08/07/2024 15:48:57 INFO 140369121769280] Epoch[11] Batch [20]#011Speed: 189.761 samples/sec#011accuracy=0.857143\u001b[0m\n",
      "\u001b[34m[08/07/2024 15:48:59 INFO 140369121769280] Epoch[11] Train-accuracy=0.859879\u001b[0m\n",
      "\u001b[34m[08/07/2024 15:48:59 INFO 140369121769280] Epoch[11] Time cost=5.029\u001b[0m\n",
      "\u001b[34m[08/07/2024 15:49:00 INFO 140369121769280] Epoch[11] Validation-accuracy=0.812500\u001b[0m\n",
      "\u001b[34m[08/07/2024 15:49:04 INFO 140369121769280] Epoch[12] Batch [20]#011Speed: 182.545 samples/sec#011accuracy=0.895833\u001b[0m\n",
      "\u001b[34m[08/07/2024 15:49:05 INFO 140369121769280] Epoch[12] Train-accuracy=0.885081\u001b[0m\n",
      "\u001b[34m[08/07/2024 15:49:05 INFO 140369121769280] Epoch[12] Time cost=5.195\u001b[0m\n",
      "\u001b[34m[08/07/2024 15:49:06 INFO 140369121769280] Epoch[12] Validation-accuracy=0.796875\u001b[0m\n",
      "\u001b[34m[08/07/2024 15:49:10 INFO 140369121769280] Epoch[13] Batch [20]#011Speed: 190.536 samples/sec#011accuracy=0.855655\u001b[0m\n",
      "\u001b[34m[08/07/2024 15:49:11 INFO 140369121769280] Epoch[13] Train-accuracy=0.873992\u001b[0m\n",
      "\u001b[34m[08/07/2024 15:49:11 INFO 140369121769280] Epoch[13] Time cost=5.018\u001b[0m\n",
      "\u001b[34m[08/07/2024 15:49:12 INFO 140369121769280] Epoch[13] Validation-accuracy=0.843750\u001b[0m\n",
      "\u001b[34m[08/07/2024 15:49:16 INFO 140369121769280] Epoch[14] Batch [20]#011Speed: 190.559 samples/sec#011accuracy=0.928571\u001b[0m\n",
      "\u001b[34m[08/07/2024 15:49:17 INFO 140369121769280] Epoch[14] Train-accuracy=0.913306\u001b[0m\n",
      "\u001b[34m[08/07/2024 15:49:17 INFO 140369121769280] Epoch[14] Time cost=4.999\u001b[0m\n",
      "\u001b[34m[08/07/2024 15:49:18 INFO 140369121769280] Epoch[14] Validation-accuracy=0.833333\u001b[0m\n",
      "\u001b[34m[08/07/2024 15:49:22 INFO 140369121769280] Epoch[15] Batch [20]#011Speed: 190.441 samples/sec#011accuracy=0.910714\u001b[0m\n",
      "\u001b[34m[08/07/2024 15:49:23 INFO 140369121769280] Epoch[15] Train-accuracy=0.908266\u001b[0m\n",
      "\u001b[34m[08/07/2024 15:49:23 INFO 140369121769280] Epoch[15] Time cost=5.017\u001b[0m\n",
      "\u001b[34m[08/07/2024 15:49:24 INFO 140369121769280] Epoch[15] Validation-accuracy=0.825893\u001b[0m\n",
      "\u001b[34m[08/07/2024 15:49:28 INFO 140369121769280] Epoch[16] Batch [20]#011Speed: 190.878 samples/sec#011accuracy=0.946429\u001b[0m\n",
      "\u001b[34m[08/07/2024 15:49:29 INFO 140369121769280] Epoch[16] Train-accuracy=0.932460\u001b[0m\n",
      "\u001b[34m[08/07/2024 15:49:29 INFO 140369121769280] Epoch[16] Time cost=4.993\u001b[0m\n",
      "\u001b[34m[08/07/2024 15:49:30 INFO 140369121769280] Epoch[16] Validation-accuracy=0.786458\u001b[0m\n",
      "\u001b[34m[08/07/2024 15:49:34 INFO 140369121769280] Epoch[17] Batch [20]#011Speed: 190.091 samples/sec#011accuracy=0.931548\u001b[0m\n",
      "\u001b[34m[08/07/2024 15:49:35 INFO 140369121769280] Epoch[17] Train-accuracy=0.925403\u001b[0m\n",
      "\u001b[34m[08/07/2024 15:49:35 INFO 140369121769280] Epoch[17] Time cost=5.022\u001b[0m\n",
      "\u001b[34m[08/07/2024 15:49:36 INFO 140369121769280] Epoch[17] Validation-accuracy=0.807292\u001b[0m\n",
      "\u001b[34m[08/07/2024 15:49:40 INFO 140369121769280] Epoch[18] Batch [20]#011Speed: 190.282 samples/sec#011accuracy=0.904762\u001b[0m\n",
      "\u001b[34m[08/07/2024 15:49:41 INFO 140369121769280] Epoch[18] Train-accuracy=0.913306\u001b[0m\n",
      "\u001b[34m[08/07/2024 15:49:41 INFO 140369121769280] Epoch[18] Time cost=5.016\u001b[0m\n",
      "\u001b[34m[08/07/2024 15:49:42 INFO 140369121769280] Epoch[18] Validation-accuracy=0.843750\u001b[0m\n",
      "\u001b[34m[08/07/2024 15:49:45 INFO 140369121769280] Epoch[19] Batch [20]#011Speed: 191.537 samples/sec#011accuracy=0.936012\u001b[0m\n",
      "\u001b[34m[08/07/2024 15:49:47 INFO 140369121769280] Epoch[19] Train-accuracy=0.935484\u001b[0m\n",
      "\u001b[34m[08/07/2024 15:49:47 INFO 140369121769280] Epoch[19] Time cost=4.986\u001b[0m\n",
      "\u001b[34m[08/07/2024 15:49:48 INFO 140369121769280] Epoch[19] Validation-accuracy=0.794643\u001b[0m\n",
      "\u001b[34m[08/07/2024 15:49:51 INFO 140369121769280] Epoch[20] Batch [20]#011Speed: 191.109 samples/sec#011accuracy=0.950893\u001b[0m\n",
      "\u001b[34m[08/07/2024 15:49:53 INFO 140369121769280] Epoch[20] Train-accuracy=0.946573\u001b[0m\n",
      "\u001b[34m[08/07/2024 15:49:53 INFO 140369121769280] Epoch[20] Time cost=5.002\u001b[0m\n",
      "\u001b[34m[08/07/2024 15:49:54 INFO 140369121769280] Epoch[20] Validation-accuracy=0.812500\u001b[0m\n",
      "\u001b[34m[08/07/2024 15:49:57 INFO 140369121769280] Epoch[21] Batch [20]#011Speed: 189.412 samples/sec#011accuracy=0.964286\u001b[0m\n",
      "\u001b[34m[08/07/2024 15:49:59 INFO 140369121769280] Epoch[21] Train-accuracy=0.964718\u001b[0m\n",
      "\u001b[34m[08/07/2024 15:49:59 INFO 140369121769280] Epoch[21] Time cost=5.020\u001b[0m\n",
      "\u001b[34m[08/07/2024 15:50:00 INFO 140369121769280] Epoch[21] Validation-accuracy=0.817708\u001b[0m\n",
      "\u001b[34m[08/07/2024 15:50:04 INFO 140369121769280] Epoch[22] Batch [20]#011Speed: 184.423 samples/sec#011accuracy=0.965774\u001b[0m\n",
      "\u001b[34m[08/07/2024 15:50:05 INFO 140369121769280] Epoch[22] Train-accuracy=0.950605\u001b[0m\n",
      "\u001b[34m[08/07/2024 15:50:05 INFO 140369121769280] Epoch[22] Time cost=5.123\u001b[0m\n",
      "\u001b[34m[08/07/2024 15:50:06 INFO 140369121769280] Epoch[22] Validation-accuracy=0.822917\u001b[0m\n",
      "\u001b[34m[08/07/2024 15:50:10 INFO 140369121769280] Epoch[23] Batch [20]#011Speed: 189.210 samples/sec#011accuracy=0.962798\u001b[0m\n",
      "\u001b[34m[08/07/2024 15:50:11 INFO 140369121769280] Epoch[23] Train-accuracy=0.961694\u001b[0m\n",
      "\u001b[34m[08/07/2024 15:50:11 INFO 140369121769280] Epoch[23] Time cost=5.022\u001b[0m\n",
      "\u001b[34m[08/07/2024 15:50:12 INFO 140369121769280] Epoch[23] Validation-accuracy=0.825893\u001b[0m\n",
      "\u001b[34m[08/07/2024 15:50:16 INFO 140369121769280] Epoch[24] Batch [20]#011Speed: 189.874 samples/sec#011accuracy=0.968750\u001b[0m\n",
      "\u001b[34m[08/07/2024 15:50:17 INFO 140369121769280] Epoch[24] Train-accuracy=0.970766\u001b[0m\n",
      "\u001b[34m[08/07/2024 15:50:17 INFO 140369121769280] Epoch[24] Time cost=5.036\u001b[0m\n",
      "\u001b[34m[08/07/2024 15:50:18 INFO 140369121769280] Epoch[24] Validation-accuracy=0.848958\u001b[0m\n",
      "\u001b[34m[08/07/2024 15:50:18 INFO 140369121769280] Storing the best model with validation accuracy: 0.848958\u001b[0m\n",
      "\u001b[34m[08/07/2024 15:50:18 INFO 140369121769280] Saved checkpoint to \"/opt/ml/model/image-classification-0025.params\"\u001b[0m\n",
      "\u001b[34m[08/07/2024 15:50:22 INFO 140369121769280] Epoch[25] Batch [20]#011Speed: 190.545 samples/sec#011accuracy=0.956845\u001b[0m\n",
      "\u001b[34m[08/07/2024 15:50:23 INFO 140369121769280] Epoch[25] Train-accuracy=0.952621\u001b[0m\n",
      "\u001b[34m[08/07/2024 15:50:23 INFO 140369121769280] Epoch[25] Time cost=5.006\u001b[0m\n",
      "\u001b[34m[08/07/2024 15:50:24 INFO 140369121769280] Epoch[25] Validation-accuracy=0.833333\u001b[0m\n",
      "\u001b[34m[08/07/2024 15:50:28 INFO 140369121769280] Epoch[26] Batch [20]#011Speed: 190.020 samples/sec#011accuracy=0.950893\u001b[0m\n",
      "\u001b[34m[08/07/2024 15:50:29 INFO 140369121769280] Epoch[26] Train-accuracy=0.963710\u001b[0m\n",
      "\u001b[34m[08/07/2024 15:50:29 INFO 140369121769280] Epoch[26] Time cost=5.010\u001b[0m\n",
      "\u001b[34m[08/07/2024 15:50:30 INFO 140369121769280] Epoch[26] Validation-accuracy=0.833333\u001b[0m\n",
      "\u001b[34m[08/07/2024 15:50:34 INFO 140369121769280] Epoch[27] Batch [20]#011Speed: 188.427 samples/sec#011accuracy=0.989583\u001b[0m\n",
      "\u001b[34m[08/07/2024 15:50:35 INFO 140369121769280] Epoch[27] Train-accuracy=0.987903\u001b[0m\n",
      "\u001b[34m[08/07/2024 15:50:35 INFO 140369121769280] Epoch[27] Time cost=5.043\u001b[0m\n",
      "\u001b[34m[08/07/2024 15:50:36 INFO 140369121769280] Epoch[27] Validation-accuracy=0.812500\u001b[0m\n",
      "\u001b[34m[08/07/2024 15:50:40 INFO 140369121769280] Epoch[28] Batch [20]#011Speed: 190.776 samples/sec#011accuracy=0.995536\u001b[0m\n",
      "\u001b[34m[08/07/2024 15:50:41 INFO 140369121769280] Epoch[28] Train-accuracy=0.989919\u001b[0m\n",
      "\u001b[34m[08/07/2024 15:50:41 INFO 140369121769280] Epoch[28] Time cost=5.013\u001b[0m\n",
      "\u001b[34m[08/07/2024 15:50:42 INFO 140369121769280] Epoch[28] Validation-accuracy=0.828125\u001b[0m\n",
      "\u001b[34m[08/07/2024 15:50:46 INFO 140369121769280] Epoch[29] Batch [20]#011Speed: 192.108 samples/sec#011accuracy=0.991071\u001b[0m\n",
      "\u001b[34m[08/07/2024 15:50:47 INFO 140369121769280] Epoch[29] Train-accuracy=0.989919\u001b[0m\n",
      "\u001b[34m[08/07/2024 15:50:47 INFO 140369121769280] Epoch[29] Time cost=4.970\u001b[0m\n",
      "\u001b[34m[08/07/2024 15:50:48 INFO 140369121769280] Epoch[29] Validation-accuracy=0.817708\u001b[0m\n",
      "\n",
      "2024-08-07 15:51:10 Uploading - Uploading generated training model\n",
      "2024-08-07 15:51:10 Completed - Training job completed\n",
      "Training seconds: 547\n",
      "Billable seconds: 547\n"
     ]
    }
   ],
   "source": [
    "# Train the model\n",
    "img_classifier_model.fit(model_inputs)"
   ]
  },
  {
   "cell_type": "markdown",
   "metadata": {},
   "source": [
    "If all goes well, you'll end up with a model topping out above `.8` validation accuracy. With only 1000 training samples in the CIFAR dataset, that's pretty good. We could definitely pursue data augmentation & gathering more samples to help us improve further, but for now let's proceed to deploy our model.\n",
    "\n",
    "### Getting ready to deploy\n",
    "\n",
    "To begin with, let's configure Model Monitor to track our deployment. We'll define a `DataCaptureConfig` below:"
   ]
  },
  {
   "cell_type": "code",
   "execution_count": 10,
   "metadata": {},
   "outputs": [],
   "source": [
    "from sagemaker.model_monitor import DataCaptureConfig\n",
    "\n",
    "capture_uri = f's3://{bucket}/data_capture'\n",
    "\n",
    "data_capture_config = DataCaptureConfig(\n",
    "    enable_capture=True,\n",
    "    sampling_percentage=100, # CHECK\n",
    "    destination_s3_uri=capture_uri)"
   ]
  },
  {
   "cell_type": "markdown",
   "metadata": {},
   "source": [
    "Note the `destination_s3_uri` parameter: At the end of the project, we can explore the `data_capture` directory in S3 to find crucial data about the inputs and outputs Model Monitor has observed on our model endpoint over time.\n",
    "\n",
    "With that done, deploy your model on a single `ml.m5.xlarge` instance with the data capture config attached:"
   ]
  },
  {
   "cell_type": "code",
   "execution_count": 11,
   "metadata": {},
   "outputs": [
    {
     "name": "stderr",
     "output_type": "stream",
     "text": [
      "INFO:sagemaker:Creating model with name: image-classification-2024-08-07-15-52-22-460\n",
      "INFO:sagemaker:Creating endpoint-config with name image-classification-2024-08-07-15-52-22-460\n",
      "INFO:sagemaker:Creating endpoint with name image-classification-2024-08-07-15-52-22-460\n"
     ]
    },
    {
     "name": "stdout",
     "output_type": "stream",
     "text": [
      "--------------!image-classification-2024-08-07-15-52-22-460\n"
     ]
    }
   ],
   "source": [
    "deployment = img_classifier_model.deploy(\n",
    "    initial_instance_count=1,\n",
    "    instance_type='ml.m5.xlarge',\n",
    "    data_capture_config=data_capture_config)\n",
    "\n",
    "endpoint_name = deployment.endpoint_name\n",
    "print(endpoint_name)"
   ]
  },
  {
   "cell_type": "markdown",
   "metadata": {},
   "source": [
    "Note the endpoint name for later as well.\n",
    "\n",
    "Next, instantiate a Predictor:"
   ]
  },
  {
   "cell_type": "code",
   "execution_count": 12,
   "metadata": {},
   "outputs": [],
   "source": [
    "from sagemaker.predictor import Predictor\n",
    "\n",
    "#predictor = Predictor(endpoint_name=endpoint_name, sagemaker_session=session)\n",
    "predictor = Predictor(endpoint_name)"
   ]
  },
  {
   "cell_type": "markdown",
   "metadata": {},
   "source": [
    "In the code snippet below we are going to prepare one of your saved images for prediction. Use the predictor to process the `payload`."
   ]
  },
  {
   "cell_type": "code",
   "execution_count": 13,
   "metadata": {},
   "outputs": [],
   "source": [
    "from sagemaker.serializers import IdentitySerializer\n",
    "import base64\n",
    "\n",
    "predictor.serializer = IdentitySerializer(content_type=\"image/png\") \n",
    "\n",
    "# The payload needs to be serialized before being sent to the model endpoint\n",
    "with open(\"./test/bicycle_s_001789.png\", \"rb\") as f:\n",
    "    payload = f.read()\n",
    "\n",
    "inference = predictor.predict(payload)"
   ]
  },
  {
   "cell_type": "markdown",
   "metadata": {},
   "source": [
    "Your `inference` object is an array of two values, the predicted probability value for each of your classes (bicycle and motorcycle respectively.) So, for example, a value of `b'[0.91, 0.09]'` indicates the probability of being a bike is 91% and being a motorcycle is 9%."
   ]
  },
  {
   "cell_type": "code",
   "execution_count": 14,
   "metadata": {},
   "outputs": [
    {
     "name": "stdout",
     "output_type": "stream",
     "text": [
      "b'[0.997246265411377, 0.002753784181550145]'\n"
     ]
    }
   ],
   "source": [
    "print(inference)"
   ]
  },
  {
   "cell_type": "markdown",
   "metadata": {},
   "source": [
    "### Draft Lambdas and Step Function Workflow\n",
    "\n",
    "Your operations team uses Step Functions to orchestrate serverless workflows. One of the nice things about Step Functions is that [workflows can call other workflows](https://docs.aws.amazon.com/step-functions/latest/dg/connect-stepfunctions.html), so the team can easily plug your workflow into the broader production architecture for Scones Unlimited.\n",
    "\n",
    "In this next stage you're going to write and deploy three Lambda functions, and then use the Step Functions visual editor to chain them together! Our functions are going to work with a simple data object:\n",
    "\n",
    "```python\n",
    "{\n",
    "    \"inferences\": [], # Output of predictor.predict\n",
    "    \"s3_key\": \"\", # Source data S3 key\n",
    "    \"s3_bucket\": \"\", # Source data S3 bucket\n",
    "    \"image_data\": \"\"  # base64 encoded string containing the image data\n",
    "}\n",
    "```\n",
    "\n",
    "A good test object that you can use for Lambda tests and Step Function executions, throughout the next section, might look like this:\n",
    "\n",
    "```python\n",
    "{\n",
    "  \"image_data\": \"\",\n",
    "  \"s3_bucket\": MY_BUCKET_NAME, # Fill in with your bucket\n",
    "  \"s3_key\": \"test/bicycle_s_000513.png\"\n",
    "}\n",
    "```\n",
    "\n",
    "Using these fields, your functions can read and write the necessary data to execute your workflow. Let's start with the first function. Your first Lambda function will copy an object from S3, base64 encode it, and then return it to the step function as `image_data` in an event.\n",
    "\n",
    "Go to the Lambda dashboard and create a new Lambda function with a descriptive name like \"serializeImageData\" and select the 'Python 3.8' runtime. Add the same permissions as the SageMaker role you created earlier. (Reminder: you do this in the Configuration tab under \"Permissions\"). Once you're ready, use the starter code below to craft your Lambda handler:\n",
    "\n",
    "```python\n",
    "import json\n",
    "import boto3\n",
    "import base64\n",
    "\n",
    "s3 = boto3.client('s3')\n",
    "\n",
    "def lambda_handler(event, context):\n",
    "    \"\"\"A function to serialize target data from S3\"\"\"\n",
    "    \n",
    "    # Get the s3 address from the Step Function event input\n",
    "    key = ## TODO: fill in\n",
    "    bucket = ## TODO: fill in\n",
    "    \n",
    "    # Download the data from s3 to /tmp/image.png\n",
    "    ## TODO: fill in\n",
    "    \n",
    "    # We read the data from a file\n",
    "    with open(\"/tmp/image.png\", \"rb\") as f:\n",
    "        image_data = base64.b64encode(f.read())\n",
    "\n",
    "    # Pass the data back to the Step Function\n",
    "    print(\"Event:\", event.keys())\n",
    "    return {\n",
    "        'statusCode': 200,\n",
    "        'body': {\n",
    "            \"image_data\": image_data,\n",
    "            \"s3_bucket\": bucket,\n",
    "            \"s3_key\": key,\n",
    "            \"inferences\": []\n",
    "        }\n",
    "    }\n",
    "```\n",
    "\n",
    "The next function is responsible for the classification part - we're going to take the image output from the previous function, decode it, and then pass inferences back to the the Step Function.\n",
    "\n",
    "Because this Lambda will have runtime dependencies (i.e. the SageMaker SDK) you'll need to package them in your function. *Key reading:* https://docs.aws.amazon.com/lambda/latest/dg/python-package-create.html#python-package-create-with-dependency\n",
    "\n",
    "Create a new Lambda function with the same rights and a descriptive name, then fill in the starter code below for your classifier Lambda.\n",
    "\n",
    "```python\n",
    "import json\n",
    "import sagemaker\n",
    "import base64\n",
    "from sagemaker.serializers import IdentitySerializer\n",
    "\n",
    "# Fill this in with the name of your deployed model\n",
    "ENDPOINT = ## TODO: fill in\n",
    "\n",
    "def lambda_handler(event, context):\n",
    "\n",
    "    # Decode the image data\n",
    "    image = base64.b64decode(## TODO: fill in)\n",
    "\n",
    "    # Instantiate a Predictor\n",
    "    predictor = ## TODO: fill in\n",
    "\n",
    "    # For this model the IdentitySerializer needs to be \"image/png\"\n",
    "    predictor.serializer = IdentitySerializer(\"image/png\")\n",
    "    \n",
    "    # Make a prediction:\n",
    "    inferences = ## TODO: fill in\n",
    "    \n",
    "    # We return the data back to the Step Function    \n",
    "    event[\"inferences\"] = inferences.decode('utf-8')\n",
    "    return {\n",
    "        'statusCode': 200,\n",
    "        'body': json.dumps(event)\n",
    "    }\n",
    "```\n",
    "\n",
    "Finally, we need to filter low-confidence inferences. Define a threshold between 1.00 and 0.000 for your model: what is reasonble for you? If the model predicts at `.70` for it's highest confidence label, do we want to pass that inference along to downstream systems? Make one last Lambda function and tee up the same permissions:\n",
    "\n",
    "```python\n",
    "import json\n",
    "\n",
    "\n",
    "THRESHOLD = .93\n",
    "\n",
    "\n",
    "def lambda_handler(event, context):\n",
    "    \n",
    "    # Grab the inferences from the event\n",
    "    inferences = ## TODO: fill in\n",
    "    \n",
    "    # Check if any values in our inferences are above THRESHOLD\n",
    "    meets_threshold = ## TODO: fill in\n",
    "    \n",
    "    # If our threshold is met, pass our data back out of the\n",
    "    # Step Function, else, end the Step Function with an error\n",
    "    if meets_threshold:\n",
    "        pass\n",
    "    else:\n",
    "        raise(\"THRESHOLD_CONFIDENCE_NOT_MET\")\n",
    "\n",
    "    return {\n",
    "        'statusCode': 200,\n",
    "        'body': json.dumps(event)\n",
    "    }\n",
    "```\n",
    "Once you have tested the lambda functions, save the code for each lambda function in a python script called 'lambda.py'.\n",
    "\n",
    "With your lambdas in place, you can use the Step Functions visual editor to construct a workflow that chains them together. In the Step Functions console you'll have the option to author a Standard step function *Visually*.\n",
    "\n",
    "When the visual editor opens, you'll have many options to add transitions in your workflow. We're going to keep it simple and have just one: to invoke Lambda functions. Add three of them chained together. For each one, you'll be able to select the Lambda functions you just created in the proper order, filter inputs and outputs, and give them descriptive names.\n",
    "\n",
    "Make sure that you:\n",
    "\n",
    "1. Are properly filtering the inputs and outputs of your invokations (e.g. `$.body`)\n",
    "2. Take care to remove the error handling from the last function - it's supposed to \"fail loudly\" for your operations colleagues!\n",
    "\n",
    "Take a screenshot of your working step function in action and export the step function as JSON for your submission package."
   ]
  },
  {
   "cell_type": "markdown",
   "metadata": {},
   "source": [
    "\n",
    "Great! Now you can use the files in `./test` as test files for our workflow. Depending on our threshold, our workflow should reliably pass predictions about images from `./test` on to downstream systems, while erroring out for inferences below our confidence threshold!\n",
    "\n",
    "### Testing and Evaluation\n",
    "\n",
    "Do several step function invokations using data from the `./test` folder. This process should give you confidence that the workflow both *succeeds* AND *fails* as expected. In addition, SageMaker Model Monitor will generate recordings of your data and inferences which we can visualize.\n",
    "\n",
    "Here's a function that can help you generate test inputs for your invokations:"
   ]
  },
  {
   "cell_type": "code",
   "execution_count": 16,
   "metadata": {},
   "outputs": [
    {
     "data": {
      "text/plain": [
       "'{\"image_data\": \"\", \"s3_bucket\": \"odlo-scones-bucket\", \"s3_key\": \"data/test/trail_bike_s_000073.png\"}'"
      ]
     },
     "execution_count": 16,
     "metadata": {},
     "output_type": "execute_result"
    }
   ],
   "source": [
    "import random\n",
    "import boto3\n",
    "import json\n",
    "\n",
    "\n",
    "def generate_test_case():\n",
    "    '''Generates a single test case for our Step Functions workflow.\n",
    "    Returns a JSON string which serves as input for our 1st Lambda function and Step Function Workflow'''\n",
    "    # Setup s3 in boto3\n",
    "    s3 = boto3.resource('s3')\n",
    "    \n",
    "    # Randomly pick from the test folder in our bucket\n",
    "    # FILTER OUT METADATA FILES\n",
    "    objects = s3.Bucket(bucket).objects.filter(Prefix=\"data/test\") # https://boto3.amazonaws.com/v1/documentation/api/latest/reference/services/s3/bucket/objects.html\n",
    "    \n",
    "    # Grab any random object key from that folder!\n",
    "    obj = random.choice([x.key for x in objects])\n",
    "    \n",
    "    return json.dumps({\n",
    "        \"image_data\": \"\",\n",
    "        \"s3_bucket\": bucket,\n",
    "        \"s3_key\": obj\n",
    "    })"
   ]
  },
  {
   "cell_type": "code",
   "execution_count": 46,
   "metadata": {},
   "outputs": [
    {
     "data": {
      "text/plain": [
       "'{\"image_data\": \"\", \"s3_bucket\": \"odlo-scones-bucket\", \"s3_key\": \"data/test/motorcycle_s_001892.png\"}'"
      ]
     },
     "execution_count": 46,
     "metadata": {},
     "output_type": "execute_result"
    }
   ],
   "source": [
    "# Use this as many test cases as you want, copy each individually to run the Step function workflow\n",
    "generate_test_case()"
   ]
  },
  {
   "cell_type": "markdown",
   "metadata": {},
   "source": [
    "In the Step Function dashboard for your new function, you can create new executions and copy in the generated test cases. Do several executions so that you can generate data you can evaluate and visualize.\n",
    "\n",
    "Once you've done several executions, let's visualize the record of our inferences. Pull in the JSONLines data from your inferences like so:"
   ]
  },
  {
   "cell_type": "code",
   "execution_count": 3,
   "metadata": {},
   "outputs": [
    {
     "data": {
      "text/plain": [
       "['captured_data/01-39-914-063dca8b-ab7a-49eb-9f2b-06bfa217799a.jsonl',\n",
       " 'captured_data/03-01-516-dbcad89b-3254-436e-a6ce-19f44867c945.jsonl',\n",
       " 'captured_data/04-29-599-7ce7e1e4-3685-4dd3-9a6e-255586d6a1ff.jsonl',\n",
       " 'captured_data/06-48-993-67bd8db6-8705-4e39-bbbb-fb1d48a7777e.jsonl',\n",
       " 'captured_data/27-56-648-8a4c6bf3-5e68-48fc-b5f5-685455aa4fd7.jsonl',\n",
       " 'captured_data/43-00-417-fafec43c-8f9e-474c-a3ea-6332e9e80713.jsonl',\n",
       " 'captured_data/44-53-490-67d6ea5b-a058-4aaf-8126-ff34c0de6ba4.jsonl',\n",
       " 'captured_data/46-30-194-37a85415-467f-451d-8a73-847863dce7ff.jsonl']"
      ]
     },
     "execution_count": 3,
     "metadata": {},
     "output_type": "execute_result"
    }
   ],
   "source": [
    "from sagemaker.s3 import S3Downloader\n",
    "\n",
    "# In S3 your data will be saved to a datetime-aware path\n",
    "# Find a path related to a datetime you're interested in\n",
    "data_path = 's3://odlo-scones-bucket/data_capture/image-classification-2024-08-07-15-52-22-460/AllTraffic/2024/08/07/19/'\n",
    "\n",
    "S3Downloader.download(data_path, \"captured_data\")\n",
    "\n",
    "# Feel free to repeat this multiple times and pull in more data"
   ]
  },
  {
   "cell_type": "markdown",
   "metadata": {},
   "source": [
    "The data are in JSONLines format, where multiple valid JSON objects are stacked on top of eachother in a single `jsonl` file. We'll import an open-source library, `jsonlines` that was purpose built for parsing this format."
   ]
  },
  {
   "cell_type": "code",
   "execution_count": 4,
   "metadata": {},
   "outputs": [
    {
     "name": "stdout",
     "output_type": "stream",
     "text": [
      "Collecting jsonlines\n",
      "  Using cached jsonlines-4.0.0-py3-none-any.whl.metadata (1.6 kB)\n",
      "Requirement already satisfied: attrs>=19.2.0 in /opt/conda/lib/python3.10/site-packages (from jsonlines) (23.2.0)\n",
      "Using cached jsonlines-4.0.0-py3-none-any.whl (8.7 kB)\n",
      "Installing collected packages: jsonlines\n",
      "Successfully installed jsonlines-4.0.0\n"
     ]
    }
   ],
   "source": [
    "!pip install jsonlines\n",
    "import jsonlines"
   ]
  },
  {
   "cell_type": "markdown",
   "metadata": {},
   "source": [
    "Now we can extract the data from each of the source files:"
   ]
  },
  {
   "cell_type": "code",
   "execution_count": 5,
   "metadata": {},
   "outputs": [],
   "source": [
    "import os\n",
    "\n",
    "# List the file names we downloaded\n",
    "file_handles = os.listdir(\"./captured_data\")\n",
    "\n",
    "# Dump all the data into an array\n",
    "json_data = []\n",
    "for jsonl in file_handles:\n",
    "    with jsonlines.open(f\"./captured_data/{jsonl}\") as f:\n",
    "        json_data.append(f.read())"
   ]
  },
  {
   "cell_type": "markdown",
   "metadata": {},
   "source": [
    "The data should now be a list of dictionaries, with significant nesting. We'll give you an example of some code that grabs data out of the objects and visualizes it:"
   ]
  },
  {
   "cell_type": "code",
   "execution_count": 7,
   "metadata": {},
   "outputs": [
    {
     "data": {
      "text/plain": [
       "([0.94282466173172, 0.05717529356479645], '2024-07-25T23:27:50Z')"
      ]
     },
     "execution_count": 7,
     "metadata": {},
     "output_type": "execute_result"
    }
   ],
   "source": [
    "import json\n",
    "# Define how we'll get our data\n",
    "def simple_getter(obj):\n",
    "    inferences = obj[\"captureData\"][\"endpointOutput\"][\"data\"]\n",
    "    timestamp = obj[\"eventMetadata\"][\"inferenceTime\"]\n",
    "    return json.loads(inferences), timestamp\n",
    "\n",
    "simple_getter(json_data[0])"
   ]
  },
  {
   "cell_type": "markdown",
   "metadata": {},
   "source": [
    "Finally, here's an example of a visualization you can build with this data. In this last part, you will take some time and build your own - **the captured data has the input images, the resulting inferences, and the timestamps.**\n",
    "\n",
    "Our data might show bad samples as we encountered an error at the final Lambda Function. Despite, this serves as an example of how bad/incorrect predictions might look like."
   ]
  },
  {
   "cell_type": "code",
   "execution_count": 8,
   "metadata": {},
   "outputs": [
    {
     "data": {
      "image/png": "[encoded data removed]",
      "text/plain": [
       "<Figure size 640x480 with 1 Axes>"
      ]
     },
     "metadata": {},
     "output_type": "display_data"
    }
   ],
   "source": [
    "import matplotlib.pyplot as plt\n",
    "# Populate the data for the x and y axis\n",
    "x = []\n",
    "y = []\n",
    "\n",
    "for obj in json_data:\n",
    "    inference, timestamp = simple_getter(obj)\n",
    "    \n",
    "    y.append(max(inference))\n",
    "    x.append(timestamp)\n",
    "\n",
    "# Todo: here is an visualization example, take some time to build another visual that helps monitor the result\n",
    "# Plot the data\n",
    "plt.scatter(x, y, c=['r' if k<.94 else 'b' for k in y ])\n",
    "plt.axhline(y=0.94, color='g', linestyle='--')\n",
    "plt.ylim(bottom=.88)\n",
    "\n",
    "# Add labels\n",
    "plt.ylabel(\"Confidence\")\n",
    "plt.suptitle(\"Observed Recent Inferences\", size=14)\n",
    "plt.title(\"Pictured with confidence threshold for production use\", size=10)\n",
    "\n",
    "# Give it some pizzaz!\n",
    "plt.style.use(\"Solarize_Light2\")\n",
    "plt.gcf().autofmt_xdate()"
   ]
  },
  {
   "cell_type": "markdown",
   "metadata": {},
   "source": [
    "### Todo: build your own visualization\n"
   ]
  },
  {
   "cell_type": "markdown",
   "metadata": {},
   "source": [
    "### Congratulations!\n",
    "\n",
    "You've reached the end of the project. In this project you created an event-drivent ML workflow that can be incorporated into the Scones Unlimited production architecture. You used the SageMaker Estimator API to deploy your SageMaker Model and Endpoint, and you used AWS Lambda and Step Functions to orchestrate your ML workflow. Using SageMaker Model Monitor, you instrumented and observed your Endpoint, and at the end of the project you built a visualization to help stakeholders understand the performance of the Endpoint over time. If you're up for it, you can even go further with these stretch goals:\n",
    "\n",
    "* Extend your workflow to incorporate more classes: the CIFAR dataset includes other vehicles that Scones Unlimited can identify with this model.\n",
    "* Modify your event driven workflow: can you rewrite your Lambda functions so that the workflow can process multiple image inputs in parallel? Can the Step Function \"fan out\" to accomodate this new workflow?\n",
    "* Consider the test data generator we provided for you. Can we use it to create a \"dummy data\" generator, to simulate a continuous stream of input data? Or a big paralell load of data?\n",
    "* What if we want to get notified every time our step function errors out? Can we use the Step Functions visual editor in conjunction with a service like SNS to accomplish this? Try it out!\n",
    "\n",
    "\n"
   ]
  }
 ],
 "metadata": {
  "instance_type": "ml.t3.medium",
  "kernelspec": {
   "display_name": "Python 3 (ipykernel)",
   "language": "python",
   "name": "python3"
  },
  "language_info": {
   "codemirror_mode": {
    "name": "ipython",
    "version": 3
   },
   "file_extension": ".py",
   "mimetype": "text/x-python",
   "name": "python",
   "nbconvert_exporter": "python",
   "pygments_lexer": "ipython3",
   "version": "3.10.14"
  }
 },
 "nbformat": 4,
 "nbformat_minor": 4
}
